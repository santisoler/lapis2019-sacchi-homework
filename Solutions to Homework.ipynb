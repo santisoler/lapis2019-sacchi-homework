{
 "cells": [
  {
   "cell_type": "code",
   "execution_count": 2,
   "metadata": {},
   "outputs": [],
   "source": [
    "import numpy as np\n",
    "import matplotlib.pyplot as plt"
   ]
  },
  {
   "cell_type": "code",
   "execution_count": 62,
   "metadata": {},
   "outputs": [],
   "source": [
    "def get_G_matrix(geophones_depth, layer_thickness, n_layers):\n",
    "    \"\"\"\n",
    "    Compute matrix G for VSP forward model\n",
    "    \n",
    "    .. math ::\n",
    "        d = Gm\n",
    "    \n",
    "    Where `d` is the travel times vector and `m` is the slowness vector,\n",
    "    whose elements correspond to the slowness of each layer of the model.\n",
    "    \n",
    "    Parameter\n",
    "    ---------\n",
    "    geophones_depth : array\n",
    "        Array of depths of the geophones\n",
    "    layer_thickness : float\n",
    "        Thickness of the layers, assuming each layer has the same\n",
    "        thickness.\n",
    "    n_layers : int\n",
    "        Total number of layers of same thickness.\n",
    "        \n",
    "    Returns\n",
    "    -------\n",
    "    G : numpy.matrix\n",
    "        Matrix G that performs the VSP forward modelling\n",
    "    \"\"\"\n",
    "    # Initialize G matrix\n",
    "    n_geophones = len(geophones_depth)\n",
    "    G = np.matrix(np.zeros((n_geophones, n_layers)))\n",
    "    # Compute elements of G\n",
    "    for i, depth in enumerate(geophones_depth):\n",
    "        for j in range(n_layers):\n",
    "            diff = depth - (j + 1) * layer_thickness\n",
    "            if diff >= 0:\n",
    "                G[i, j] = layer_thickness\n",
    "            else:\n",
    "                G[i, j] = layer_thickness + diff\n",
    "                break\n",
    "    return G"
   ]
  },
  {
   "cell_type": "code",
   "execution_count": 63,
   "metadata": {},
   "outputs": [],
   "source": [
    "geophones_depth = [0.1, 2, 2.2, 3.3, 5.2]\n",
    "layer_thickness = 1\n",
    "n_layers = 7"
   ]
  },
  {
   "cell_type": "code",
   "execution_count": 64,
   "metadata": {},
   "outputs": [
    {
     "data": {
      "text/plain": [
       "matrix([[0.1, 0. , 0. , 0. , 0. , 0. , 0. ],\n",
       "        [1. , 1. , 0. , 0. , 0. , 0. , 0. ],\n",
       "        [1. , 1. , 0.2, 0. , 0. , 0. , 0. ],\n",
       "        [1. , 1. , 1. , 0.3, 0. , 0. , 0. ],\n",
       "        [1. , 1. , 1. , 1. , 1. , 0.2, 0. ]])"
      ]
     },
     "execution_count": 64,
     "metadata": {},
     "output_type": "execute_result"
    }
   ],
   "source": [
    "get_G_matrix(geophones_depth, layer_thickness, n_layers)"
   ]
  },
  {
   "cell_type": "code",
   "execution_count": 45,
   "metadata": {},
   "outputs": [],
   "source": []
  },
  {
   "cell_type": "code",
   "execution_count": null,
   "metadata": {},
   "outputs": [],
   "source": []
  }
 ],
 "metadata": {
  "kernelspec": {
   "display_name": "Python 3",
   "language": "python",
   "name": "python3"
  },
  "language_info": {
   "codemirror_mode": {
    "name": "ipython",
    "version": 3
   },
   "file_extension": ".py",
   "mimetype": "text/x-python",
   "name": "python",
   "nbconvert_exporter": "python",
   "pygments_lexer": "ipython3",
   "version": "3.7.3"
  }
 },
 "nbformat": 4,
 "nbformat_minor": 2
}
