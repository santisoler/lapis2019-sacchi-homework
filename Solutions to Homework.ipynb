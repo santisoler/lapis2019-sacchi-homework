{
 "cells": [
  {
   "cell_type": "code",
   "execution_count": 1,
   "metadata": {},
   "outputs": [],
   "source": [
    "import numpy as np\n",
    "import matplotlib.pyplot as plt"
   ]
  },
  {
   "cell_type": "markdown",
   "metadata": {},
   "source": [
    "# Matrix for computing forward model\n",
    "\n",
    "We want to create a function that gets the depths of the geophones and the proposed layer structure of the subsurface to compute the **G** matrix defined as follows:\n",
    "\n",
    "$$ \\bf{d} = \\bf{G} \\bf{m} $$\n",
    "\n",
    "where $\\bf{d}$ is the travel times vector and $\\bf{m}$ is the slowness vector of the layers."
   ]
  },
  {
   "cell_type": "code",
   "execution_count": 2,
   "metadata": {},
   "outputs": [],
   "source": [
    "def get_G_matrix(geophones_depth, layer_thickness, n_layers):\n",
    "    \"\"\"\n",
    "    Compute matrix G for VSP forward model\n",
    "    \n",
    "    .. math ::\n",
    "        d = Gm\n",
    "    \n",
    "    Where `d` is the travel times vector and `m` is the slowness vector,\n",
    "    whose elements correspond to the slowness of each layer of the model.\n",
    "    \n",
    "    Parameter\n",
    "    ---------\n",
    "    geophones_depth : array\n",
    "        Array of depths of the geophones\n",
    "    layer_thickness : float\n",
    "        Thickness of the layers, assuming each layer has the same\n",
    "        thickness.\n",
    "    n_layers : int\n",
    "        Total number of layers of same thickness.\n",
    "        \n",
    "    Returns\n",
    "    -------\n",
    "    G : numpy.matrix\n",
    "        Matrix G that performs the VSP forward modelling\n",
    "    \"\"\"\n",
    "    # Check if the layer structure is well defined\n",
    "    if n_layers * layer_thickness < max(geophones_depth):\n",
    "        raise ValueError(\n",
    "            \"Layer structure must be as deep as the deepest geophone\"\n",
    "        )\n",
    "    # Initialize G matrix full of zeros\n",
    "    n_geophones = len(geophones_depth)\n",
    "    G = np.matrix(np.zeros((n_geophones, n_layers)))\n",
    "    # Compute elements of G\n",
    "    for i, depth in enumerate(geophones_depth):\n",
    "        # Get the number of the layer where the geophone is located\n",
    "        layer_of_geophone = int(depth // layer_thickness)\n",
    "        G[i, :layer_of_geophone] = layer_thickness\n",
    "        G[i, layer_of_geophone] = depth % layer_thickness\n",
    "    return G"
   ]
  },
  {
   "cell_type": "markdown",
   "metadata": {},
   "source": [
    "# Read data from `data_vsp.asc`"
   ]
  },
  {
   "cell_type": "code",
   "execution_count": 3,
   "metadata": {},
   "outputs": [],
   "source": [
    "geophones_depth, travel_times = np.loadtxt(\"data_vsp.asc\", unpack=True)"
   ]
  },
  {
   "cell_type": "code",
   "execution_count": 4,
   "metadata": {},
   "outputs": [],
   "source": [
    "n_geophones = len(geophones_depth)"
   ]
  },
  {
   "cell_type": "markdown",
   "metadata": {},
   "source": [
    "# Define inverse problem\n",
    "\n",
    "We must propose a subsurface discretized model. We will asume N layers of equal thickess."
   ]
  },
  {
   "cell_type": "code",
   "execution_count": 54,
   "metadata": {
    "scrolled": true
   },
   "outputs": [],
   "source": [
    "n_layers = 100\n",
    "max_depth = 1\n",
    "layer_thickness = max_depth / n_layers"
   ]
  },
  {
   "cell_type": "markdown",
   "metadata": {},
   "source": [
    "We will impose that our model should be near a reference model of constant slowness of 1/3 s/km."
   ]
  },
  {
   "cell_type": "code",
   "execution_count": 55,
   "metadata": {},
   "outputs": [],
   "source": [
    "reference_model = 1/3 * np.ones(n_layers)"
   ]
  },
  {
   "cell_type": "markdown",
   "metadata": {},
   "source": [
    "The cost function we want to minimize can be written as follows:\n",
    "\n",
    "$$ J = || d - Gm ||^2 + \\mu^2 || D (m - m_\\text{ref}) ||^2 $$\n",
    "\n",
    "where $||\\cdot||^2$ notes the $L_2$ norm, $m_\\text{ref}$ is the reference model, $D$ is the identity matrix and $\\mu$ is the regularization paramter (a.k.a. trade-off parameter).\n",
    "\n",
    "The model that minimizes this cost function can be computed as follows:\n",
    "\n",
    "$$ m_\\text{est} = \\left[ G^T W_e G + \\mu^2 D^T D \\right]^{-1} \\left[ G^T W_e d + \\mu^2 D^T D m_\\text{ref} \\right]$$\n",
    "\n",
    "where $W_e$ is the diagonal matrix of data variances."
   ]
  },
  {
   "cell_type": "code",
   "execution_count": 56,
   "metadata": {},
   "outputs": [],
   "source": [
    "sigma = 0.0018\n",
    "W_e = sigma * np.matrix(np.identity(n_geophones))\n",
    "\n",
    "D = np.matrix(np.identity(n_layers))"
   ]
  },
  {
   "cell_type": "markdown",
   "metadata": {},
   "source": [
    "Get G matrix"
   ]
  },
  {
   "cell_type": "code",
   "execution_count": 57,
   "metadata": {},
   "outputs": [],
   "source": [
    "G = get_G_matrix(geophones_depth, layer_thickness, n_layers)"
   ]
  },
  {
   "cell_type": "code",
   "execution_count": 58,
   "metadata": {},
   "outputs": [],
   "source": [
    "mu = 1e-5\n",
    "A = np.dot(G.T , np.dot(W_e, G)) + mu ** 2 * np.dot(D.T, D)\n",
    "B = (\n",
    "    np.dot(G.T, np.dot(W_e, travel_times[:, np.newaxis]))\n",
    "    + mu ** 2 * np.dot(D.T , np.dot(D, reference_model[:, np.newaxis]))\n",
    ")"
   ]
  },
  {
   "cell_type": "code",
   "execution_count": 59,
   "metadata": {},
   "outputs": [
    {
     "data": {
      "text/plain": [
       "matrix([[ 0.34335817],\n",
       "        [ 0.34335817],\n",
       "        [ 0.34335817],\n",
       "        [ 0.34335817],\n",
       "        [ 0.34335817],\n",
       "        [ 0.34335817],\n",
       "        [ 0.34335817],\n",
       "        [ 0.34335817],\n",
       "        [ 0.34335817],\n",
       "        [ 0.34335817],\n",
       "        [ 0.15331297],\n",
       "        [ 0.42871026],\n",
       "        [ 0.38994919],\n",
       "        [ 0.21321963],\n",
       "        [ 0.5081898 ],\n",
       "        [ 0.33541299],\n",
       "        [ 0.32826986],\n",
       "        [ 0.09135706],\n",
       "        [ 0.54121218],\n",
       "        [ 0.11263955],\n",
       "        [ 0.54128613],\n",
       "        [ 0.20645179],\n",
       "        [ 0.29063712],\n",
       "        [ 0.30302253],\n",
       "        [ 0.56640794],\n",
       "        [ 0.32244159],\n",
       "        [ 0.23177612],\n",
       "        [ 0.50355302],\n",
       "        [ 0.20482727],\n",
       "        [ 0.31677224],\n",
       "        [ 0.20848056],\n",
       "        [ 0.48988344],\n",
       "        [ 0.32897097],\n",
       "        [ 0.3453105 ],\n",
       "        [ 0.27780947],\n",
       "        [ 0.2314935 ],\n",
       "        [ 0.25516713],\n",
       "        [ 0.59364119],\n",
       "        [ 0.12370981],\n",
       "        [ 0.44982723],\n",
       "        [ 0.38871252],\n",
       "        [-0.08209182],\n",
       "        [ 0.69532569],\n",
       "        [ 0.03953745],\n",
       "        [ 0.06104826],\n",
       "        [ 0.46589871],\n",
       "        [ 0.42120134],\n",
       "        [ 0.231968  ],\n",
       "        [ 0.33118346],\n",
       "        [ 0.32363884],\n",
       "        [ 0.26777148],\n",
       "        [ 0.46219347],\n",
       "        [ 0.1441615 ],\n",
       "        [ 0.42010905],\n",
       "        [ 0.46997632],\n",
       "        [ 0.18651386],\n",
       "        [ 0.58647132],\n",
       "        [ 0.05942093],\n",
       "        [ 0.52453723],\n",
       "        [ 0.17386475],\n",
       "        [ 0.32041931],\n",
       "        [ 0.18349424],\n",
       "        [ 0.4857452 ],\n",
       "        [ 0.28032146],\n",
       "        [-0.19432042],\n",
       "        [ 0.32497345],\n",
       "        [ 0.20700285],\n",
       "        [ 0.50023378],\n",
       "        [ 0.09849134],\n",
       "        [ 0.31494084],\n",
       "        [ 0.12209393],\n",
       "        [ 0.68010924],\n",
       "        [ 0.21746724],\n",
       "        [ 0.2963813 ],\n",
       "        [ 0.43457743],\n",
       "        [ 0.29990085],\n",
       "        [ 0.23452232],\n",
       "        [ 0.45144879],\n",
       "        [ 0.25172464],\n",
       "        [ 0.26691278],\n",
       "        [ 0.69450857],\n",
       "        [ 0.02761735],\n",
       "        [ 0.45542098],\n",
       "        [ 0.24944149],\n",
       "        [ 0.36299043],\n",
       "        [ 0.35246264],\n",
       "        [ 0.49614456],\n",
       "        [-0.04936548],\n",
       "        [ 0.67595304],\n",
       "        [ 0.05988662],\n",
       "        [ 0.58392467],\n",
       "        [ 0.39106844],\n",
       "        [ 0.1440819 ],\n",
       "        [ 0.24961532],\n",
       "        [ 0.44210382],\n",
       "        [ 0.23682443],\n",
       "        [ 0.37193108],\n",
       "        [ 0.34388449],\n",
       "        [ 0.41754518],\n",
       "        [ 0.21248365]])"
      ]
     },
     "execution_count": 59,
     "metadata": {},
     "output_type": "execute_result"
    }
   ],
   "source": [
    "np.linalg.solve(A, B)"
   ]
  },
  {
   "cell_type": "code",
   "execution_count": null,
   "metadata": {},
   "outputs": [],
   "source": []
  }
 ],
 "metadata": {
  "kernelspec": {
   "display_name": "Python 3",
   "language": "python",
   "name": "python3"
  }
 },
 "nbformat": 4,
 "nbformat_minor": 2
}
