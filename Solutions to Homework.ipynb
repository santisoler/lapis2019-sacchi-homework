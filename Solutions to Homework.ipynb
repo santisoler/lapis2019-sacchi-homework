{
 "cells": [
  {
   "cell_type": "code",
   "execution_count": 1,
   "metadata": {},
   "outputs": [],
   "source": [
    "import numpy as np\n",
    "import matplotlib.pyplot as plt"
   ]
  },
  {
   "cell_type": "markdown",
   "metadata": {},
   "source": [
    "# Matrix for computing forward model\n",
    "\n",
    "We want to create a function that gets the depths of the geophones and the proposed layer structure of the subsurface to compute the **G** matrix defined as follows:\n",
    "\n",
    "$$ \\bf{d} = \\bf{G} \\bf{m} $$\n",
    "\n",
    "where $\\bf{d}$ is the travel times vector and $\\bf{m}$ is the slowness vector of the layers."
   ]
  },
  {
   "cell_type": "code",
   "execution_count": 11,
   "metadata": {},
   "outputs": [],
   "source": [
    "def get_G_matrix(geophones_depth, layer_thickness, n_layers):\n",
    "    \"\"\"\n",
    "    Compute matrix G for VSP forward model\n",
    "    \n",
    "    .. math ::\n",
    "        d = Gm\n",
    "    \n",
    "    Where `d` is the travel times vector and `m` is the slowness vector,\n",
    "    whose elements correspond to the slowness of each layer of the model.\n",
    "    \n",
    "    Parameter\n",
    "    ---------\n",
    "    geophones_depth : array\n",
    "        Array of depths of the geophones\n",
    "    layer_thickness : float\n",
    "        Thickness of the layers, assuming each layer has the same\n",
    "        thickness.\n",
    "    n_layers : int\n",
    "        Total number of layers of same thickness.\n",
    "        \n",
    "    Returns\n",
    "    -------\n",
    "    G : numpy.matrix\n",
    "        Matrix G that performs the VSP forward modelling\n",
    "    \"\"\"\n",
    "    # Check if the layer structure is well defined\n",
    "    if n_layers * layer_thickness < max(geophones_depth):\n",
    "        raise ValueError(\n",
    "            \"Layer structure must be as deep as the deepest geophone\"\n",
    "        )\n",
    "    # Initialize G matrix full of zeros\n",
    "    n_geophones = len(geophones_depth)\n",
    "    G = np.matrix(np.zeros((n_geophones, n_layers)))\n",
    "    # Compute elements of G\n",
    "    for i, depth in enumerate(geophones_depth):\n",
    "        # Get the number of the layer where the geophone is located\n",
    "        layer_of_geophone = int(depth // layer_thickness)\n",
    "        G[i, :layer_of_geophone] = layer_thickness\n",
    "        G[i, layer_of_geophone] = depth % layer_thickness\n",
    "    return G"
   ]
  },
  {
   "cell_type": "markdown",
   "metadata": {},
   "source": [
    "# Read data from `data_vsp.asc`"
   ]
  },
  {
   "cell_type": "code",
   "execution_count": 18,
   "metadata": {},
   "outputs": [],
   "source": [
    "geophones_depth, travel_times = np.loadtxt(\"data_vsp.asc\", unpack=True)"
   ]
  },
  {
   "cell_type": "code",
   "execution_count": null,
   "metadata": {},
   "outputs": [],
   "source": []
  }
 ],
 "metadata": {
  "kernelspec": {
   "display_name": "Python 3",
   "language": "python",
   "name": "python3"
  },
  "language_info": {
   "codemirror_mode": {
    "name": "ipython",
    "version": 3
   },
   "file_extension": ".py",
   "mimetype": "text/x-python",
   "name": "python",
   "nbconvert_exporter": "python",
   "pygments_lexer": "ipython3",
   "version": "3.7.3"
  }
 },
 "nbformat": 4,
 "nbformat_minor": 2
}
